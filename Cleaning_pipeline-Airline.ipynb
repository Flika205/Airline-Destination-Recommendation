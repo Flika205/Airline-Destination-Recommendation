{
 "cells": [
  {
   "cell_type": "markdown",
   "metadata": {},
   "source": [
    "### Cleaning data for different models\n",
    "This notebook will be the cleaning pipeline for the model which will be used to make predictions in regards to whether a user will convert in a given time-window."
   ]
  },
  {
   "cell_type": "code",
   "execution_count": null,
   "metadata": {},
   "outputs": [],
   "source": [
    "%%cleanup -f"
   ]
  },
  {
   "cell_type": "code",
   "execution_count": null,
   "metadata": {},
   "outputs": [],
   "source": [
    "%%configure -f\n",
    "{\"driverMemory\": \"48G\", \"executorMemory\": \"8G\", \"executorCores\": 2, \"numExecutors\": 50}"
   ]
  },
  {
   "cell_type": "code",
   "execution_count": null,
   "metadata": {},
   "outputs": [],
   "source": [
    "%%info"
   ]
  },
  {
   "cell_type": "code",
   "execution_count": null,
   "metadata": {},
   "outputs": [],
   "source": [
    "from pyspark.sql import SparkSession\n",
    "\n",
    "spark = SparkSession \\\n",
    "    .builder \\\n",
    "    .appName(\"rf model\") \\\n",
    "    .config(\"spark.driver.maxResultSize\", \"10g\") \\\n",
    "    .getOrCreate()"
   ]
  },
  {
   "cell_type": "code",
   "execution_count": null,
   "metadata": {},
   "outputs": [],
   "source": [
    "spark.sql(\"set spark.sql.caseSensitive=true\")"
   ]
  },
  {
   "cell_type": "code",
   "execution_count": null,
   "metadata": {},
   "outputs": [],
   "source": [
    "from pyspark.sql import SQLContext\n",
    "sqlC = SQLContext(sc)"
   ]
  },
  {
   "cell_type": "code",
   "execution_count": null,
   "metadata": {},
   "outputs": [],
   "source": [
    "from pyspark.sql.functions import col, when\n",
    "from pyspark.sql.types import *\n",
    "from pyspark.ml.feature import SQLTransformer\n",
    "from pyspark.ml import Pipeline"
   ]
  },
  {
   "cell_type": "code",
   "execution_count": null,
   "metadata": {},
   "outputs": [],
   "source": [
    "directory = ''\n",
    "model_dir = ''
   ]
  },
  {
   "cell_type": "markdown",
   "metadata": {},
   "source": [
    "### Transformers for data cleaning step"
   ]
  },
  {
   "cell_type": "code",
   "execution_count": null,
   "metadata": {},
   "outputs": [],
   "source": [
    "adults_merger = SQLTransformer(statement='SELECT *, CASE WHEN FlightSelected_variables_NrAdults is not NULL THEN FlightSelected_variables_NrAdults WHEN EbtSearch_variables_adults is not NULL THEN EbtSearch_variables_adults ELSE NULL END AS search_adults_num FROM __THIS__')"
   ]
  },
  {
   "cell_type": "code",
   "execution_count": null,
   "metadata": {},
   "outputs": [],
   "source": [
    "infants_merger = SQLTransformer(statement='SELECT *, CASE WHEN FlightSelected_variables_NrInfants is not NULL THEN FlightSelected_variables_NrInfants WHEN EbtSearch_variables_infants is not NULL THEN EbtSearch_variables_infants ELSE NULL END AS search_infants_num FROM __THIS__')"
   ]
  },
  {
   "cell_type": "code",
   "execution_count": null,
   "metadata": {},
   "outputs": [],
   "source": [
    "children_merger = SQLTransformer(statement='SELECT *, CASE WHEN FlightSelected_variables_NrChildren is not NULL THEN FlightSelected_variables_NrChildren WHEN EbtSearch_variables_children is not NULL THEN EbtSearch_variables_children ELSE NULL END AS search_children_num FROM __THIS__')"
   ]
  },
  {
   "cell_type": "code",
   "execution_count": null,
   "metadata": {},
   "outputs": [],
   "source": [
    "class_merger = SQLTransformer(statement='SELECT *, CASE WHEN FlightSelected_variables_CabinCode is not NULL THEN FlightSelected_variables_CabinCode WHEN EbtSearch_variables_cabinCode is not NULL THEN EbtSearch_variables_cabinCode ELSE NULL END AS travelClass FROM __THIS__')"
   ]
  },
  {
   "cell_type": "code",
   "execution_count": null,
   "metadata": {},
   "outputs": [],
   "source": [
    "origin_merger = SQLTransformer(statement='SELECT *, CASE WHEN FlightSelected_variables_Origin is not NULL THEN FlightSelected_variables_Origin WHEN EbtSearch_variables_orgCode is not NULL THEN EbtSearch_variables_orgCode ELSE \"UND\" END AS search_origin_code FROM __THIS__')"
   ]
  },
  {
   "cell_type": "code",
   "execution_count": null,
   "metadata": {},
   "outputs": [],
   "source": [
    "destination_merger = SQLTransformer(statement='SELECT *, CASE WHEN FlightSelected_variables_Destination is not NULL THEN FlightSelected_variables_Destination WHEN EbtSearch_variables_dstCode is not NULL THEN EbtSearch_variables_dstCode ELSE \"UND\" END AS search_destination_code FROM __THIS__')"
   ]
  },
  {
   "cell_type": "code",
   "execution_count": null,
   "metadata": {},
   "outputs": [],
   "source": [
    "timestamp_merger = SQLTransformer(statement='SELECT *, CASE WHEN FlightSelected_variables_Timestamp is not NULL THEN FlightSelected_variables_Timestamp WHEN EbtSearch_variables_timestamp is not NULL THEN EbtSearch_variables_timestamp ELSE NULL END AS search_timestamp FROM __THIS__')"
   ]
  },
  {
   "cell_type": "code",
   "execution_count": null,
   "metadata": {},
   "outputs": [],
   "source": [
    "tripCode_merger = SQLTransformer(statement='SELECT *, CASE WHEN subIdentifier is not NULL THEN subIdentifier WHEN EbtSearch_variables_simpleTripCode is not NULL THEN EbtSearch_variables_simpleTripCode ELSE NULL END AS search_trip_code FROM __THIS__')"
   ]
  },
  {
   "cell_type": "code",
   "execution_count": null,
   "metadata": {},
   "outputs": [],
   "source": [
    "returnDate_merger = SQLTransformer(statement='SELECT *, CASE WHEN conversion_variables_rd is not NULL THEN conversion_variables_rd WHEN conversion_variables_returnDate is not NULL THEN conversion_variables_returnDate ELSE NULL END AS booking_return_date FROM __THIS__')"
   ]
  },
  {
   "cell_type": "code",
   "execution_count": null,
   "metadata": {},
   "outputs": [],
   "source": [
    "columns_casting = SQLTransformer(statement='SELECT *, CAST(value as int) as value, CAST(conversion_variables_booking_timestamp as \\\n",
    "                                            date) AS conversion_variables_booking_timestamp, \\\n",
    "                                            CAST(conversion_variables_dd as date) AS conversion_variables_dd, \\\n",
    "                                            CAST(booking_return_date as date) AS booking_return_date, \\\n",
    "                                            CAST(conversion_variables_pax as int) as conversion_variables_pax, \\\n",
    "                                            CAST(search_event_timestamp as date) as search_timestamp, \\\n",
    "                                            CAST(InboundDateSelected_variables_departureDate as date) as InboundDateSelected_variables_departureDate, \\\n",
    "                                            CAST(InboundDateSelected_variables_returnDate as date) as InboundDateSelected_variables_returnDate, \\\n",
    "                                            CAST(search_timestamp as date) as search_timestamp, \\\n",
    "                                            CAST(EbtSearch_variables_pax as int) as EbtSearch_variables_pax, \\\n",
    "                                            CAST(pricePP_variables_price as int) as pricePP_variables_price FROM __THIS__')"
   ]
  },
  {
   "cell_type": "code",
   "execution_count": null,
   "metadata": {},
   "outputs": [],
   "source": [
    "cleaning_pipeline = Pipeline(stages=[adults_merger] + [infants_merger] + [children_merger] + [class_merger] + [origin_merger] + [destination_merger] + [timestamp_merger] + [tripCode_merger] + [returnDate_merger] + [columns_casting])"
   ]
  },
  {
   "cell_type": "code",
   "execution_count": null,
   "metadata": {},
   "outputs": [],
   "source": [
    "cleaning_pipeline.write().overwrite().save('%s/%s' % (directory, model_dir))"
   ]
  }
 ],
 "metadata": {
  "kernelspec": {
   "display_name": "Sparkmagic (PySpark3)",
   "language": "",
   "name": "pyspark3kernel"
  },
  "language_info": {
   "codemirror_mode": {
    "name": "python",
    "version": 3
   },
   "mimetype": "text/x-python",
   "name": "pyspark3",
   "pygments_lexer": "python3"
  }
 },
 "nbformat": 4,
 "nbformat_minor": 2
}
